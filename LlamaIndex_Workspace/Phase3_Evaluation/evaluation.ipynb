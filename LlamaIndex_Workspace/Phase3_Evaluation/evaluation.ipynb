{
 "cells": [
  {
   "cell_type": "code",
   "execution_count": 35,
   "metadata": {},
   "outputs": [],
   "source": [
    "from llama_index.core import VectorStoreIndex, Settings, SimpleDirectoryReader\n",
    "from llama_index.core.evaluation import FaithfulnessEvaluator\n",
    "from llama_index.llms.ollama import Ollama\n",
    "from llama_index.embeddings.huggingface import HuggingFaceEmbedding\n",
    "from llama_index.core.tools import FunctionTool\n",
    "from llama_index.core.agent import ReActAgent\n",
    "from llama_index.core.llama_dataset.generator import RagDatasetGenerator"
   ]
  },
  {
   "cell_type": "code",
   "execution_count": 10,
   "metadata": {},
   "outputs": [],
   "source": [
    "documents = SimpleDirectoryReader(\"../data\").load_data()\n",
    "llm = Ollama(model=\"llama3\", request_timeout=120.0)"
   ]
  },
  {
   "cell_type": "code",
   "execution_count": 3,
   "metadata": {},
   "outputs": [
    {
     "name": "stderr",
     "output_type": "stream",
     "text": [
      "c:\\Users\\Enes227\\environments\\llama_environment\\Lib\\site-packages\\huggingface_hub\\file_download.py:1132: FutureWarning: `resume_download` is deprecated and will be removed in version 1.0.0. Downloads always resume when possible. If you want to force a new download, use `force_download=True`.\n",
      "  warnings.warn(\n"
     ]
    }
   ],
   "source": [
    "Settings.embed_model = HuggingFaceEmbedding(\n",
    "    model_name=\"BAAI/bge-small-en-v1.5\"\n",
    ")"
   ]
  },
  {
   "cell_type": "code",
   "execution_count": 4,
   "metadata": {},
   "outputs": [
    {
     "data": {
      "application/vnd.jupyter.widget-view+json": {
       "model_id": "d51292707cd8415b9150685031060db5",
       "version_major": 2,
       "version_minor": 0
      },
      "text/plain": [
       "Parsing nodes:   0%|          | 0/1 [00:00<?, ?it/s]"
      ]
     },
     "metadata": {},
     "output_type": "display_data"
    },
    {
     "data": {
      "application/vnd.jupyter.widget-view+json": {
       "model_id": "0b4b5d659bdd492da65f3b05e3211175",
       "version_major": 2,
       "version_minor": 0
      },
      "text/plain": [
       "Generating embeddings:   0%|          | 0/22 [00:00<?, ?it/s]"
      ]
     },
     "metadata": {},
     "output_type": "display_data"
    }
   ],
   "source": [
    "vector_index = VectorStoreIndex.from_documents(documents,embed_model=Settings.embed_model,show_progress=True)"
   ]
  },
  {
   "cell_type": "code",
   "execution_count": 39,
   "metadata": {},
   "outputs": [
    {
     "name": "stdout",
     "output_type": "stream",
     "text": [
      "The two main things the author worked on outside of school before college were writing and programming. Specifically, he wrote short stories and tried to write programs on an IBM 1401 computer using early Fortran language.\n"
     ]
    }
   ],
   "source": [
    "query_engine = vector_index.as_query_engine(llm=llm)\n",
    "response = query_engine.query(\n",
    "    \"What were the two main things the author worked on outside of school before college?\"\n",
    ")\n",
    "print(response)"
   ]
  },
  {
   "cell_type": "code",
   "execution_count": 6,
   "metadata": {},
   "outputs": [],
   "source": [
    "import nest_asyncio\n",
    "nest_asyncio.apply()\n"
   ]
  },
  {
   "cell_type": "code",
   "execution_count": 40,
   "metadata": {},
   "outputs": [
    {
     "name": "stdout",
     "output_type": "stream",
     "text": [
      "True\n"
     ]
    }
   ],
   "source": [
    "evaluator = FaithfulnessEvaluator(llm=llm)\n",
    "eval_result = evaluator.evaluate_response(response=response)\n",
    "print(str(eval_result.passing))"
   ]
  },
  {
   "cell_type": "code",
   "execution_count": 41,
   "metadata": {},
   "outputs": [
    {
     "name": "stdout",
     "output_type": "stream",
     "text": [
      "True\n",
      "False\n"
     ]
    }
   ],
   "source": [
    "response_str = response.response\n",
    "for source_node in response.source_nodes:\n",
    "    eval_result = evaluator.evaluate(\n",
    "        response=response_str, contexts=[source_node.get_content()]\n",
    "    )\n",
    "    print(str(eval_result.passing))"
   ]
  },
  {
   "cell_type": "code",
   "execution_count": 42,
   "metadata": {},
   "outputs": [
    {
     "data": {
      "text/plain": [
       "NodeWithScore(node=TextNode(id_='3d43ebe7-ac8f-4279-ba10-9bfa55f06d58', embedding=None, metadata={'file_path': 'c:\\\\Yedek\\\\Dosyalar\\\\stuff\\\\ders\\\\NLP\\\\05 LlamaIndex\\\\LlamaIndex_Workspace\\\\Phase_2\\\\..\\\\data\\\\paul_graham_essay.txt', 'file_name': 'paul_graham_essay.txt', 'file_type': 'text/plain', 'file_size': 75042, 'creation_date': '2024-05-29', 'last_modified_date': '2024-05-05'}, excluded_embed_metadata_keys=['file_name', 'file_type', 'file_size', 'creation_date', 'last_modified_date', 'last_accessed_date'], excluded_llm_metadata_keys=['file_name', 'file_type', 'file_size', 'creation_date', 'last_modified_date', 'last_accessed_date'], relationships={<NodeRelationship.SOURCE: '1'>: RelatedNodeInfo(node_id='358bf59e-66c2-4810-bd20-b37224fa45d9', node_type=<ObjectType.DOCUMENT: '4'>, metadata={'file_path': 'c:\\\\Yedek\\\\Dosyalar\\\\stuff\\\\ders\\\\NLP\\\\05 LlamaIndex\\\\LlamaIndex_Workspace\\\\Phase_2\\\\..\\\\data\\\\paul_graham_essay.txt', 'file_name': 'paul_graham_essay.txt', 'file_type': 'text/plain', 'file_size': 75042, 'creation_date': '2024-05-29', 'last_modified_date': '2024-05-05'}, hash='7aa39d880022dbfa042e973fcfb888664bac9ae069c1ac396ef8ec72b443095f'), <NodeRelationship.NEXT: '3'>: RelatedNodeInfo(node_id='5ee82b40-9867-494e-b8c6-572a55871039', node_type=<ObjectType.TEXT: '1'>, metadata={}, hash='a86dcfe59f6bd34948c27f71ce3559236525c77d68fd0be377e2548e308f9ec0')}, text='What I Worked On\\n\\nFebruary 2021\\n\\nBefore college the two main things I worked on, outside of school, were writing and programming. I didn\\'t write essays. I wrote what beginning writers were supposed to write then, and probably still are: short stories. My stories were awful. They had hardly any plot, just characters with strong feelings, which I imagined made them deep.\\n\\nThe first programs I tried writing were on the IBM 1401 that our school district used for what was then called \"data processing.\" This was in 9th grade, so I was 13 or 14. The school district\\'s 1401 happened to be in the basement of our junior high school, and my friend Rich Draves and I got permission to use it. It was like a mini Bond villain\\'s lair down there, with all these alien-looking machines — CPU, disk drives, printer, card reader — sitting up on a raised floor under bright fluorescent lights.\\n\\nThe language we used was an early version of Fortran. You had to type programs on punch cards, then stack them in the card reader and press a button to load the program into memory and run it. The result would ordinarily be to print something on the spectacularly loud printer.\\n\\nI was puzzled by the 1401. I couldn\\'t figure out what to do with it. And in retrospect there\\'s not much I could have done with it. The only form of input to programs was data stored on punched cards, and I didn\\'t have any data stored on punched cards. The only other option was to do things that didn\\'t rely on any input, like calculate approximations of pi, but I didn\\'t know enough math to do anything interesting of that type. So I\\'m not surprised I can\\'t remember any programs I wrote, because they can\\'t have done much. My clearest memory is of the moment I learned it was possible for programs not to terminate, when one of mine didn\\'t. On a machine without time-sharing, this was a social as well as a technical error, as the data center manager\\'s expression made clear.\\n\\nWith microcomputers, everything changed. Now you could have a computer sitting right in front of you, on a desk, that could respond to your keystrokes as it was running instead of just churning through a stack of punch cards and then stopping. [1]\\n\\nThe first of my friends to get a microcomputer built it himself. It was sold as a kit by Heathkit. I remember vividly how impressed and envious I felt watching him sitting in front of it, typing programs right into the computer.\\n\\nComputers were expensive in those days and it took me years of nagging before I convinced my father to buy one, a TRS-80, in about 1980. The gold standard then was the Apple II, but a TRS-80 was good enough. This was when I really started programming. I wrote simple games, a program to predict how high my model rockets would fly, and a word processor that my father used to write at least one book. There was only room in memory for about 2 pages of text, so he\\'d write 2 pages at a time and then print them out, but it was a lot better than a typewriter.\\n\\nThough I liked programming, I didn\\'t plan to study it in college. In college I was going to study philosophy, which sounded much more powerful. It seemed, to my naive high school self, to be the study of the ultimate truths, compared to which the things studied in other fields would be mere domain knowledge. What I discovered when I got to college was that the other fields took up so much of the space of ideas that there wasn\\'t much left for these supposed ultimate truths. All that seemed left for philosophy were edge cases that people in other fields felt could safely be ignored.\\n\\nI couldn\\'t have put this into words when I was 18. All I knew at the time was that I kept taking philosophy courses and they kept being boring. So I decided to switch to AI.\\n\\nAI was in the air in the mid 1980s, but there were two things especially that made me want to work on it: a novel by Heinlein called The Moon is a Harsh Mistress, which featured an intelligent computer called Mike, and a PBS documentary that showed Terry Winograd using SHRDLU. I haven\\'t tried rereading The Moon is a Harsh Mistress, so I don\\'t know how well it has aged, but when I read it I was drawn entirely into its world.', start_char_idx=2, end_char_idx=4172, text_template='{metadata_str}\\n\\n{content}', metadata_template='{key}: {value}', metadata_seperator='\\n'), score=0.6933066674739241)"
      ]
     },
     "execution_count": 42,
     "metadata": {},
     "output_type": "execute_result"
    }
   ],
   "source": [
    "response.source_nodes[0]"
   ]
  },
  {
   "cell_type": "code",
   "execution_count": 43,
   "metadata": {},
   "outputs": [
    {
     "data": {
      "text/plain": [
       "NodeWithScore(node=TextNode(id_='b28f94d3-00d2-45eb-a089-0360b58a97c7', embedding=None, metadata={'file_path': 'c:\\\\Yedek\\\\Dosyalar\\\\stuff\\\\ders\\\\NLP\\\\05 LlamaIndex\\\\LlamaIndex_Workspace\\\\Phase_2\\\\..\\\\data\\\\paul_graham_essay.txt', 'file_name': 'paul_graham_essay.txt', 'file_type': 'text/plain', 'file_size': 75042, 'creation_date': '2024-05-29', 'last_modified_date': '2024-05-05'}, excluded_embed_metadata_keys=['file_name', 'file_type', 'file_size', 'creation_date', 'last_modified_date', 'last_accessed_date'], excluded_llm_metadata_keys=['file_name', 'file_type', 'file_size', 'creation_date', 'last_modified_date', 'last_accessed_date'], relationships={<NodeRelationship.SOURCE: '1'>: RelatedNodeInfo(node_id='358bf59e-66c2-4810-bd20-b37224fa45d9', node_type=<ObjectType.DOCUMENT: '4'>, metadata={'file_path': 'c:\\\\Yedek\\\\Dosyalar\\\\stuff\\\\ders\\\\NLP\\\\05 LlamaIndex\\\\LlamaIndex_Workspace\\\\Phase_2\\\\..\\\\data\\\\paul_graham_essay.txt', 'file_name': 'paul_graham_essay.txt', 'file_type': 'text/plain', 'file_size': 75042, 'creation_date': '2024-05-29', 'last_modified_date': '2024-05-05'}, hash='7aa39d880022dbfa042e973fcfb888664bac9ae069c1ac396ef8ec72b443095f'), <NodeRelationship.PREVIOUS: '2'>: RelatedNodeInfo(node_id='0af8a4da-80cc-419a-beba-6f856e547b5c', node_type=<ObjectType.TEXT: '1'>, metadata={'file_path': 'c:\\\\Yedek\\\\Dosyalar\\\\stuff\\\\ders\\\\NLP\\\\05 LlamaIndex\\\\LlamaIndex_Workspace\\\\Phase_2\\\\..\\\\data\\\\paul_graham_essay.txt', 'file_name': 'paul_graham_essay.txt', 'file_type': 'text/plain', 'file_size': 75042, 'creation_date': '2024-05-29', 'last_modified_date': '2024-05-05'}, hash='82d097176b1d713a01e20a679889a1b4d448775cd6dbb0cd0fa787e1346eacbf'), <NodeRelationship.NEXT: '3'>: RelatedNodeInfo(node_id='9ae6c8ba-f164-4081-a702-d260cf174e2e', node_type=<ObjectType.TEXT: '1'>, metadata={}, hash='20335193b8ed7102b4375206a86be644c95ea21118972e5be7cc809ae216f970')}, text='Grad students could take classes in any department, and my advisor, Tom Cheatham, was very easy going. If he even knew about the strange classes I was taking, he never said anything.\\n\\nSo now I was in a PhD program in computer science, yet planning to be an artist, yet also genuinely in love with Lisp hacking and working away at On Lisp. In other words, like many a grad student, I was working energetically on multiple projects that were not my thesis.\\n\\nI didn\\'t see a way out of this situation. I didn\\'t want to drop out of grad school, but how else was I going to get out? I remember when my friend Robert Morris got kicked out of Cornell for writing the internet worm of 1988, I was envious that he\\'d found such a spectacular way to get out of grad school.\\n\\nThen one day in April 1990 a crack appeared in the wall. I ran into professor Cheatham and he asked if I was far enough along to graduate that June. I didn\\'t have a word of my dissertation written, but in what must have been the quickest bit of thinking in my life, I decided to take a shot at writing one in the 5 weeks or so that remained before the deadline, reusing parts of On Lisp where I could, and I was able to respond, with no perceptible delay \"Yes, I think so. I\\'ll give you something to read in a few days.\"\\n\\nI picked applications of continuations as the topic. In retrospect I should have written about macros and embedded languages. There\\'s a whole world there that\\'s barely been explored. But all I wanted was to get out of grad school, and my rapidly written dissertation sufficed, just barely.\\n\\nMeanwhile I was applying to art schools. I applied to two: RISD in the US, and the Accademia di Belli Arti in Florence, which, because it was the oldest art school, I imagined would be good. RISD accepted me, and I never heard back from the Accademia, so off to Providence I went.\\n\\nI\\'d applied for the BFA program at RISD, which meant in effect that I had to go to college again. This was not as strange as it sounds, because I was only 25, and art schools are full of people of different ages. RISD counted me as a transfer sophomore and said I had to do the foundation that summer. The foundation means the classes that everyone has to take in fundamental subjects like drawing, color, and design.\\n\\nToward the end of the summer I got a big surprise: a letter from the Accademia, which had been delayed because they\\'d sent it to Cambridge England instead of Cambridge Massachusetts, inviting me to take the entrance exam in Florence that fall. This was now only weeks away. My nice landlady let me leave my stuff in her attic. I had some money saved from consulting work I\\'d done in grad school; there was probably enough to last a year if I lived cheaply. Now all I had to do was learn Italian.\\n\\nOnly stranieri (foreigners) had to take this entrance exam. In retrospect it may well have been a way of excluding them, because there were so many stranieri attracted by the idea of studying art in Florence that the Italian students would otherwise have been outnumbered. I was in decent shape at painting and drawing from the RISD foundation that summer, but I still don\\'t know how I managed to pass the written exam. I remember that I answered the essay question by writing about Cezanne, and that I cranked up the intellectual level as high as I could to make the most of my limited vocabulary. [2]\\n\\nI\\'m only up to age 25 and already there are such conspicuous patterns. Here I was, yet again about to attend some august institution in the hopes of learning about some prestigious subject, and yet again about to be disappointed. The students and faculty in the painting department at the Accademia were the nicest people you could imagine, but they had long since arrived at an arrangement whereby the students wouldn\\'t require the faculty to teach anything, and in return the faculty wouldn\\'t require the students to learn anything. And at the same time all involved would adhere outwardly to the conventions of a 19th century atelier. We actually had one of those little stoves, fed with kindling, that you see in 19th century studio paintings, and a nude model sitting as close to it as possible without getting burned. Except hardly anyone else painted her besides me.', start_char_idx=10266, end_char_idx=14517, text_template='{metadata_str}\\n\\n{content}', metadata_template='{key}: {value}', metadata_seperator='\\n'), score=0.6359340355188994)"
      ]
     },
     "execution_count": 43,
     "metadata": {},
     "output_type": "execute_result"
    }
   ],
   "source": [
    "response.source_nodes[1]"
   ]
  },
  {
   "cell_type": "code",
   "execution_count": 45,
   "metadata": {},
   "outputs": [
    {
     "name": "stdout",
     "output_type": "stream",
     "text": [
      "query='What were the two main things the author worked on outside of school before college?' contexts=['What I Worked On\\n\\nFebruary 2021\\n\\nBefore college the two main things I worked on, outside of school, were writing and programming. I didn\\'t write essays. I wrote what beginning writers were supposed to write then, and probably still are: short stories. My stories were awful. They had hardly any plot, just characters with strong feelings, which I imagined made them deep.\\n\\nThe first programs I tried writing were on the IBM 1401 that our school district used for what was then called \"data processing.\" This was in 9th grade, so I was 13 or 14. The school district\\'s 1401 happened to be in the basement of our junior high school, and my friend Rich Draves and I got permission to use it. It was like a mini Bond villain\\'s lair down there, with all these alien-looking machines — CPU, disk drives, printer, card reader — sitting up on a raised floor under bright fluorescent lights.\\n\\nThe language we used was an early version of Fortran. You had to type programs on punch cards, then stack them in the card reader and press a button to load the program into memory and run it. The result would ordinarily be to print something on the spectacularly loud printer.\\n\\nI was puzzled by the 1401. I couldn\\'t figure out what to do with it. And in retrospect there\\'s not much I could have done with it. The only form of input to programs was data stored on punched cards, and I didn\\'t have any data stored on punched cards. The only other option was to do things that didn\\'t rely on any input, like calculate approximations of pi, but I didn\\'t know enough math to do anything interesting of that type. So I\\'m not surprised I can\\'t remember any programs I wrote, because they can\\'t have done much. My clearest memory is of the moment I learned it was possible for programs not to terminate, when one of mine didn\\'t. On a machine without time-sharing, this was a social as well as a technical error, as the data center manager\\'s expression made clear.\\n\\nWith microcomputers, everything changed. Now you could have a computer sitting right in front of you, on a desk, that could respond to your keystrokes as it was running instead of just churning through a stack of punch cards and then stopping. [1]\\n\\nThe first of my friends to get a microcomputer built it himself. It was sold as a kit by Heathkit. I remember vividly how impressed and envious I felt watching him sitting in front of it, typing programs right into the computer.\\n\\nComputers were expensive in those days and it took me years of nagging before I convinced my father to buy one, a TRS-80, in about 1980. The gold standard then was the Apple II, but a TRS-80 was good enough. This was when I really started programming. I wrote simple games, a program to predict how high my model rockets would fly, and a word processor that my father used to write at least one book. There was only room in memory for about 2 pages of text, so he\\'d write 2 pages at a time and then print them out, but it was a lot better than a typewriter.\\n\\nThough I liked programming, I didn\\'t plan to study it in college. In college I was going to study philosophy, which sounded much more powerful. It seemed, to my naive high school self, to be the study of the ultimate truths, compared to which the things studied in other fields would be mere domain knowledge. What I discovered when I got to college was that the other fields took up so much of the space of ideas that there wasn\\'t much left for these supposed ultimate truths. All that seemed left for philosophy were edge cases that people in other fields felt could safely be ignored.\\n\\nI couldn\\'t have put this into words when I was 18. All I knew at the time was that I kept taking philosophy courses and they kept being boring. So I decided to switch to AI.\\n\\nAI was in the air in the mid 1980s, but there were two things especially that made me want to work on it: a novel by Heinlein called The Moon is a Harsh Mistress, which featured an intelligent computer called Mike, and a PBS documentary that showed Terry Winograd using SHRDLU. I haven\\'t tried rereading The Moon is a Harsh Mistress, so I don\\'t know how well it has aged, but when I read it I was drawn entirely into its world.', 'Grad students could take classes in any department, and my advisor, Tom Cheatham, was very easy going. If he even knew about the strange classes I was taking, he never said anything.\\n\\nSo now I was in a PhD program in computer science, yet planning to be an artist, yet also genuinely in love with Lisp hacking and working away at On Lisp. In other words, like many a grad student, I was working energetically on multiple projects that were not my thesis.\\n\\nI didn\\'t see a way out of this situation. I didn\\'t want to drop out of grad school, but how else was I going to get out? I remember when my friend Robert Morris got kicked out of Cornell for writing the internet worm of 1988, I was envious that he\\'d found such a spectacular way to get out of grad school.\\n\\nThen one day in April 1990 a crack appeared in the wall. I ran into professor Cheatham and he asked if I was far enough along to graduate that June. I didn\\'t have a word of my dissertation written, but in what must have been the quickest bit of thinking in my life, I decided to take a shot at writing one in the 5 weeks or so that remained before the deadline, reusing parts of On Lisp where I could, and I was able to respond, with no perceptible delay \"Yes, I think so. I\\'ll give you something to read in a few days.\"\\n\\nI picked applications of continuations as the topic. In retrospect I should have written about macros and embedded languages. There\\'s a whole world there that\\'s barely been explored. But all I wanted was to get out of grad school, and my rapidly written dissertation sufficed, just barely.\\n\\nMeanwhile I was applying to art schools. I applied to two: RISD in the US, and the Accademia di Belli Arti in Florence, which, because it was the oldest art school, I imagined would be good. RISD accepted me, and I never heard back from the Accademia, so off to Providence I went.\\n\\nI\\'d applied for the BFA program at RISD, which meant in effect that I had to go to college again. This was not as strange as it sounds, because I was only 25, and art schools are full of people of different ages. RISD counted me as a transfer sophomore and said I had to do the foundation that summer. The foundation means the classes that everyone has to take in fundamental subjects like drawing, color, and design.\\n\\nToward the end of the summer I got a big surprise: a letter from the Accademia, which had been delayed because they\\'d sent it to Cambridge England instead of Cambridge Massachusetts, inviting me to take the entrance exam in Florence that fall. This was now only weeks away. My nice landlady let me leave my stuff in her attic. I had some money saved from consulting work I\\'d done in grad school; there was probably enough to last a year if I lived cheaply. Now all I had to do was learn Italian.\\n\\nOnly stranieri (foreigners) had to take this entrance exam. In retrospect it may well have been a way of excluding them, because there were so many stranieri attracted by the idea of studying art in Florence that the Italian students would otherwise have been outnumbered. I was in decent shape at painting and drawing from the RISD foundation that summer, but I still don\\'t know how I managed to pass the written exam. I remember that I answered the essay question by writing about Cezanne, and that I cranked up the intellectual level as high as I could to make the most of my limited vocabulary. [2]\\n\\nI\\'m only up to age 25 and already there are such conspicuous patterns. Here I was, yet again about to attend some august institution in the hopes of learning about some prestigious subject, and yet again about to be disappointed. The students and faculty in the painting department at the Accademia were the nicest people you could imagine, but they had long since arrived at an arrangement whereby the students wouldn\\'t require the faculty to teach anything, and in return the faculty wouldn\\'t require the students to learn anything. And at the same time all involved would adhere outwardly to the conventions of a 19th century atelier. We actually had one of those little stoves, fed with kindling, that you see in 19th century studio paintings, and a nude model sitting as close to it as possible without getting burned. Except hardly anyone else painted her besides me.'] response='The two main things the author worked on outside of school before college were writing and programming. Specifically, he wrote short stories and tried to write programs on an IBM 1401 computer using early Fortran language.' passing=True feedback='YES' score=1.0 pairwise_source=None invalid_result=False invalid_reason=None\n"
     ]
    }
   ],
   "source": [
    "query = \"What were the two main things the author worked on outside of school before college?\"\n",
    "eval_result = evaluator.evaluate_response(query=query, response= response)\n",
    "print(str(eval_result))"
   ]
  },
  {
   "cell_type": "code",
   "execution_count": 46,
   "metadata": {},
   "outputs": [
    {
     "name": "stdout",
     "output_type": "stream",
     "text": [
      "True\n",
      "False\n"
     ]
    }
   ],
   "source": [
    "for source_node in response.source_nodes:\n",
    "    eval_result = evaluator.evaluate(\n",
    "        query=query,\n",
    "        response=response_str,\n",
    "        contexts=[source_node.get_content()],\n",
    "    )\n",
    "    print(str(eval_result.passing))"
   ]
  },
  {
   "cell_type": "code",
   "execution_count": 37,
   "metadata": {},
   "outputs": [],
   "source": [
    "dataset_generator = RagDatasetGenerator.from_documents(\n",
    "    documents=documents,\n",
    "    llm=llm,\n",
    "    num_questions_per_chunk=10,\n",
    ")\n",
    "\n",
    "rag_dataset = dataset_generator.generate_questions_from_nodes()\n",
    "questions = [e.query for e in rag_dataset.examples]"
   ]
  },
  {
   "cell_type": "code",
   "execution_count": 38,
   "metadata": {},
   "outputs": [
    {
     "data": {
      "text/plain": [
       "['Here are 10 questions based on the given text:',\n",
       " 'What were the two main things the author worked on outside of school before college?',\n",
       " 'What type of stories did the author write as a beginning writer?',\n",
       " \"Where was the IBM 1401 computer located, and what was it used for in the author's junior high school?\",\n",
       " 'What programming language did the author use to write programs on the IBM 1401?',\n",
       " 'How did the author learn that programs could not terminate, and what was the reaction of the data center manager?',\n",
       " \"What kind of microcomputer did the author's friend build himself, and where did he get it from?\",\n",
       " 'Why did it take the author years to convince his father to buy a TRS-80 computer, and when did they eventually purchase one?',\n",
       " 'What was the gold standard in microcomputers at the time, according to the author?',\n",
       " 'What subject did the author initially plan to study in college, but ended up switching from after discovering it was not as exciting as expected?',\n",
       " 'Here are 10 questions based on the given context:',\n",
       " \"What was the author's reason for switching from philosophy courses to AI?\",\n",
       " 'Which novel by Heinlein inspired the author to work on AI?',\n",
       " \"Who was Terry Winograd, and what did he do that caught the author's attention?\",\n",
       " 'Why did the author decide to teach themselves AI instead of taking classes at Cornell?',\n",
       " 'What programming language was regarded as the language of AI in those days, and why did the author choose to learn it?',\n",
       " \"What was the author's undergraduate thesis about, and what made it exciting to them?\",\n",
       " 'Why did the author apply to only three graduate schools for pursuing a degree in AI?',\n",
       " 'What realization did the author have during their first year of graduate school that changed their perspective on AI?',\n",
       " 'What did the author mean by saying that AI, as practiced at the time, was a \"hoax\"?',\n",
       " 'Here are 10 questions based on the given text:',\n",
       " \"What was the author's initial plan for SHRDLU, and why did it not work out?\",\n",
       " 'What language did the author decide to focus on after abandoning their original plan? Why did they choose Lisp?',\n",
       " 'When was the author\\'s book \"On Lisp\" published?',\n",
       " 'How does the author describe the relationship between theory and systems in Computer Science?',\n",
       " 'According to the author, what is the problem with systems work in terms of longevity?',\n",
       " 'What happened to the surplus Xerox Dandelions in the computer lab?',\n",
       " 'Why did the author want to build things that would last, as opposed to just building anything?',\n",
       " 'What realization did the author have while visiting the Carnegie Institute?',\n",
       " 'How does the author describe the prospect of making a living as an artist compared to writing software?',\n",
       " 'Here are 10 questions based on the provided text:',\n",
       " \"What was the author's PhD program in, despite his intention to become an artist?\",\n",
       " 'Who asked the author if he was far enough along to graduate that June?',\n",
       " 'What topic did the author choose for his dissertation, and why did he select it?',\n",
       " 'Which art schools did the author apply to, and which one accepted him?',\n",
       " 'What was the \"foundation\" that the author had to complete at RISD?',\n",
       " \"Why did the author's invitation to take an entrance exam in Florence get delayed?\",\n",
       " 'Who did the author write about for the essay question on the Accademia entrance exam?',\n",
       " 'How old was the author when he started his journey, and what were his plans at that time?',\n",
       " 'What was the atmosphere like among the students and faculty in the painting department at the Accademia?',\n",
       " 'Here are 10 questions based on the given text:',\n",
       " \"What was the author's experience with still life painting during his time at the Accademia?\",\n",
       " 'Who turned out to live just down the street from the author, and what did she do for a living?',\n",
       " 'What was the main difference between painting still lives and painting people, according to the author?',\n",
       " 'How did the author\\'s approach to painting still lives differ from \"merely photographic accuracy\"?',\n",
       " \"Why didn't the students at the Accademia require their teachers to teach anything, and what did the teachers do in return?\",\n",
       " \"What was the author's experience with his teacher, Professor Ulivi, during his time at the Accademia?\",\n",
       " 'What company did the author work for after leaving the Accademia, and what type of software did they create?',\n",
       " \"What was Interleaf's bold move, according to the text?\",\n",
       " 'How old was the author when he realized there were \"such conspicuous patterns\" in his experiences?',\n",
       " 'Here are ten questions based on the provided text:',\n",
       " 'What was the name of the professor who taught the author, and how did he treat them?',\n",
       " 'Why did the author leave Italy after their first year at the Accademia?',\n",
       " 'What kind of job did the author get at Interleaf, and what was their experience like there?',\n",
       " 'What inspired Interleaf to add a scripting language to their software, and what language was it based on?',\n",
       " \"How did the author's work style clash with the expectations of their boss and coworkers at Interleaf?\",\n",
       " \"What was the author's financial situation before getting paid by Interleaf, and how did their income change as a result?\",\n",
       " 'What were some lessons the author learned during their time at Interleaf that they later applied to other ventures?',\n",
       " 'Why did the author choose to leave Interleaf and return to RISD in the fall of 1992?',\n",
       " \"How did the author's experience at RISD differ from what they had expected, and what were some of the problems they encountered?\",\n",
       " 'Here are 10 questions based on the provided text:',\n",
       " '**Question 1**',\n",
       " \"What was the author's experience at Interleaf before moving back to Providence?\",\n",
       " 'A) He was a markup language enthusiast.',\n",
       " 'B) He learned HTML.',\n",
       " 'C) He worked as a programmer.',\n",
       " 'D) He was an occupational hazard.',\n",
       " '**Answer**: A) He was a markup language enthusiast.',\n",
       " '**Question 2**',\n",
       " 'Why did the author decide to take a color class at RISD?',\n",
       " 'Here are 10 questions based on the context information:',\n",
       " 'What was the name of the painting class that the author took at Harvard, which had a significant impact on his life?',\n",
       " 'Who was the famous fund manager mentioned in the text, and what was the thought that occurred to the author regarding this person?',\n",
       " 'What was the World Wide Web that Robert Morris showed to the author, and why did it seem like it would be a big deal?',\n",
       " \"Why did the author think that art galleries didn't want to put their collections online, despite his initial enthusiasm for the idea?\",\n",
       " \"What was the software that the author wrote to generate web sites for galleries, and what was Robert's contribution to this project?\",\n",
       " 'How did the author realize that their initial idea of building a website for art galleries was not viable, and what led them to explore online stores instead?',\n",
       " 'Why did the authors initially want to write Windows software, despite being comfortable in the Unix world?',\n",
       " 'What was the \"aha\" moment that struck the author as he was lying on the mattress in Robert\\'s apartment, which changed their approach to building a website?',\n",
       " 'When did the authors successfully create a web app that allowed users to control it by clicking on links, and what was the significance of this achievement?',\n",
       " 'Here are 10 questions based on the provided text:',\n",
       " 'What was the initial goal of creating a version of the store builder that could be controlled through a browser?',\n",
       " 'When did the author and Robert successfully create a version of the store builder that worked through the browser?',\n",
       " 'What was the name of the company founded by the author after developing the web-based store builder?',\n",
       " 'How much seed funding did Julian provide to the author in exchange for 10% of the company?',\n",
       " 'Why did the author have a negative net worth at this stage?',\n",
       " \"What was the main goal of an online store builder, according to the author's experience studying art?\",\n",
       " 'When did Robert rebel against working on the project?',\n",
       " 'Who recommended Trevor Blackwell as another programmer to join the team?',\n",
       " 'How many stores were open for business when the company launched in January 1996?',\n",
       " \"Based on the provided text, I've created 10 questions that cover various aspects of the content. Please note that these questions are designed to test the student's understanding and comprehension of the passage.\",\n",
       " '**Quiz Questions**',\n",
       " 'When did the author start their online business with six stores?',\n",
       " 'a) January 1995',\n",
       " 'b) January 1996',\n",
       " 'c) July 1997',\n",
       " 'Answer: b) January 1996',\n",
       " 'What was the main goal for the software editor, according to the author?',\n",
       " 'a) To be easy to use and inexpensive',\n",
       " 'b) To integrate with other software',\n",
       " 'Here are 10 questions based on the given text:',\n",
       " 'What was the name of the company that Paul Graham co-founded, which was eventually bought by Yahoo?',\n",
       " '(Answer: Viaweb)',\n",
       " 'According to Paul Graham, what was the growth rate of his company during a certain period?',\n",
       " '(Answer: 7x per year)',\n",
       " 'Why did Paul Graham hire more people at Viaweb despite knowing it would affect profitability?',\n",
       " '(Answer: Investors wanted him to and it seemed like startups were supposed to have many employees)',\n",
       " 'When did Viaweb finally reach breakeven, according to Paul Graham?',\n",
       " '(Answer: About the summer of 1998)',\n",
       " \"What was the significant change in Paul Graham's lifestyle when Yahoo bought Viaweb?\",\n",
       " 'Here are 10 questions based on the given context:',\n",
       " \"What was the author's boss doing at a particular moment, which seemed like an ambitious plan?\",\n",
       " 'Why did the author initially quit his job and what did he do immediately after quitting?',\n",
       " 'What advice does the author give to founders who leave their companies, and why does he regret not following this advice himself?',\n",
       " \"Where was the author's house located, and how did it affect his life after quitting his job?\",\n",
       " 'Why did the author return to New York and what did he find there that helped him resume his old life?',\n",
       " 'What change did the author notice in his daily routine now that he was rich, and how did this affect his painting?',\n",
       " 'What kind of still life paintings did the author experiment with, and why?',\n",
       " \"Why did the author move to Cambridge and what idea excited him so much that he couldn't think about anything else?\",\n",
       " \"Who refused to work on the author's new project, and why?\",\n",
       " 'Here are 10 questions based on the context information:',\n",
       " 'What was the name of the company that Paul Graham founded?',\n",
       " 'Who helped Paul Graham build software for the new company, Aspra?',\n",
       " 'Why did Paul Graham decide not to run a company, Aspra, as initially planned?',\n",
       " 'What was the name of the dialect of Lisp language that Paul Graham created?',\n",
       " 'In what year did Paul Graham realize the implications of publishing essays online?',\n",
       " 'Who invited Paul Graham to give a talk at a Lisp conference, leading to his online essay gaining popularity?',\n",
       " \"How many page views did Paul Graham's online essay receive in one day after being posted on Slashdot?\",\n",
       " 'What was the original name for companies like Aspra that provided software services over the internet?',\n",
       " 'Who were the two undergrads working on the first two services (images and phone calls) for Aspra?',\n",
       " 'Here are 10 questions based on the given text:',\n",
       " 'What was the traditional channel for publishing essays during the print era?',\n",
       " 'According to the author, what was the turning point that led them to start writing essays online?',\n",
       " 'How did the author initially perceive online essays in terms of their social standing?',\n",
       " 'Which forms of painting and programming are mentioned as being considered \"unprestigious\" by some people?',\n",
       " 'What is the main danger that the author warns against when pursuing ambitious goals?',\n",
       " \"What was the title of the book that O'Reilly published, which featured a collection of the author's essays?\",\n",
       " \"What type of event did Maria Daniels organize at the author's house in October 2003?\",\n",
       " \"What was Jessica Livingston's occupation before she started working on her book of startup founders' interviews?\",\n",
       " 'What were some of the criticisms the author had about traditional venture capital practices that they shared with Jessica during her job search?',\n",
       " 'Here are 10 questions based on the provided context:',\n",
       " \"What was Paul Graham's job at a Boston VC firm that he interviewed for in early 2005?\",\n",
       " 'According to Paul Graham, what were some of the things that needed to be fixed about venture capital?',\n",
       " \"What was one of Paul Graham's tricks for writing essays, which he used as a way to stimulate his imagination?\",\n",
       " 'What topic did Paul Graham decide to give a talk on when asked by the Harvard Computer Society?',\n",
       " 'Who were the three people that Paul Graham schemed with about projects they could work on together?',\n",
       " 'When did Paul Graham have an idea to start their own investment firm, and what triggered this decision?',\n",
       " 'How did Paul Graham and his partner, Jessica, initially plan to organize their angel investing firm, Y Combinator?',\n",
       " 'What was one of the ways that Julian had helped Paul Graham and his co-founders in the early days of their startup?',\n",
       " 'Why did Paul Graham think that funding a \"bunch of startups all at once\" would be a good way to gain experience as investors?',\n",
       " 'Here are 10 questions based on the given text:',\n",
       " 'According to the author, what was the \"most distinctive thing\" about YC (You\\'ve Come) that they discovered by accident?',\n",
       " 'What summer program did the author and his friends organize, which later became known as the Summer Founders Program?',\n",
       " 'How much money did the author invest in each founder during the first batch of startups funded through the Summer Founders Program?',\n",
       " 'Why was the building owned by the author used as the headquarters for YC?',\n",
       " 'What type of job did undergrads typically take up during the summer, and what alternative did the author propose to them?',\n",
       " 'How many applications did the author receive for the Summer Founders Program, and how many groups were invited for in-person interviews?',\n",
       " 'Who were some notable founders among the first batch of startups funded through YC, and what were their subsequent achievements?',\n",
       " 'What was the deal that the author and his friends initially offered to the founders, and how did it change over time?',\n",
       " 'What problem did funding startups in batches solve for the founders, according to the author?',\n",
       " 'Here are 10 questions based on the provided text:',\n",
       " \"What was YC's initial intention, according to Paul Graham?\",\n",
       " 'How did YC alumni community grow as YC grew?',\n",
       " 'What was the original name of Hacker News, and why was it changed?',\n",
       " \"According to Robert Morris, what was Paul Graham's work style like at Viaweb?\",\n",
       " 'In what year did Robert Morris offer unsolicited advice to Paul Graham?',\n",
       " 'Why did Paul Graham initially intend for YC not to be a full-time job?',\n",
       " 'What was the main source of stress for Paul Graham in his work on Hacker News?',\n",
       " 'How often did new batches of startups arrive at YC, and what problems came with them?',\n",
       " \"According to Kevin Hale's quote, what is the relationship between the boss's work ethic and others' work ethic?\",\n",
       " 'Here are 10 questions based on the provided text:',\n",
       " \"What was Paul Graham's initial reaction when Robert Morris offered him unsolicited advice?\",\n",
       " 'According to Paul Graham, what was one thing rarer than Robert Morris offering advice?',\n",
       " 'Why did Paul Graham decide to quit Y Combinator (YC) eventually?',\n",
       " \"In 2012, what medical issue did Paul Graham's mother experience?\",\n",
       " 'Who did Paul Graham ask to be the president of YC when he decided to step down?',\n",
       " 'What was Sam Altman initially interested in starting before agreeing to become the president of YC?',\n",
       " 'When did Sam Altman agree to take over as the president of YC, and which batch of startups would it start with?',\n",
       " \"How did Paul Graham's mother's passing affect his work on YC, leading him to decide when to stop working on the organization?\",\n",
       " 'What was one thing that Paul Graham noticed about attention being a \"zero sum game\" in the context of his painting hobby?',\n",
       " 'Here are 10 questions based on the given text:',\n",
       " 'What did the author do after stopping work on YC?',\n",
       " 'A) Started painting',\n",
       " 'B) Continued writing essays',\n",
       " 'C) Went back to programming',\n",
       " 'D) Took a break',\n",
       " 'Answer: A) Started painting',\n",
       " 'How long did the author spend most of his time in 2014?',\n",
       " 'A) Half of the year',\n",
       " 'B) Most of the year',\n",
       " 'Here are 10 questions based on the given context information:',\n",
       " 'What was the duration of time it took Paul Graham to complete his project, Bel?',\n",
       " 'Why did Paul Graham ban himself from writing essays during most of the time he worked on Bel?',\n",
       " 'In what year did Paul Graham start working on Bel, and where was he located at that time?',\n",
       " 'How would you describe the difficulty of keeping track of errors while working on an interpreter written in itself like Bel?',\n",
       " \"What was the outcome of Paul Graham's decision to focus only on Bel for a period of time?\",\n",
       " 'Where did Paul Graham move with his family in the summer of 2016, and how long did they initially plan to stay there?',\n",
       " 'When was Bel finally finished, and what did Paul Graham do after completing it?',\n",
       " \"According to Paul Graham's experience, what stage in computer evolution did he skip?\",\n",
       " 'What was the nature of the work that Paul Graham had to do to make his new Lisp, Bel, functional?',\n",
       " \"Based on the given text, I've generated 10 questions that cover various aspects of the passage. Here they are:\",\n",
       " \"What was the author's residential address mentioned in paragraph [3]?\",\n",
       " 'In paragraph [4], what type of portrait is described as \"arguably the apex of still life painting\"?',\n",
       " 'According to paragraph [5], what technological factor contributed to the demise of Interleaf and similar companies?',\n",
       " 'In paragraph [6], how are money and coolness coupled in the art world, according to the author?',\n",
       " \"What was the main difference between the apartment's rent-control and -stabilization status, as mentioned in paragraph [7]?\",\n",
       " 'Why did the authors of Viaweb need to launch their online store builder privately before publicly, as described in paragraph [8]?',\n",
       " 'In paragraph [9], what programming language were users editing without realizing it?',\n",
       " \"According to paragraph [10], what was a common response to the author's essays, and how did he respond to these reactions?\",\n",
       " 'What is the difference between publishing something online and simply putting it there, as explained in paragraph [11]?',\n",
       " 'Here are 10 questions based on the given text:',\n",
       " 'What was the original name of Y Combinator, and why was it changed?',\n",
       " 'Which color did Paul Graham choose for YC partly because it was the warmest and partly because no Venture Capital (VC) used it?',\n",
       " 'In what year did YC become a fund for a couple of years, and what event led to them going back to being self-funded?',\n",
       " 'What does Paul Graham dislike about the term \"deal flow\", and how does he believe YC affects this concept?',\n",
       " 'According to the text, why was it difficult for Jessica to carry air conditioners when there was a run on them?',\n",
       " 'What is the problem that arises when you both write essays and run a forum, according to Paul Graham?',\n",
       " 'How do people post misinterpretations of essays on forums, according to Paul Graham?',\n",
       " \"What does Paul Graham think would happen if he didn't respond to misinterpretations on HN (Hacker News)?\",\n",
       " 'Why was it hard for Paul Graham to leave YC, besides not working with Jessica anymore?']"
      ]
     },
     "execution_count": 38,
     "metadata": {},
     "output_type": "execute_result"
    }
   ],
   "source": [
    "questions"
   ]
  }
 ],
 "metadata": {
  "kernelspec": {
   "display_name": "base",
   "language": "python",
   "name": "python3"
  },
  "language_info": {
   "codemirror_mode": {
    "name": "ipython",
    "version": 3
   },
   "file_extension": ".py",
   "mimetype": "text/x-python",
   "name": "python",
   "nbconvert_exporter": "python",
   "pygments_lexer": "ipython3",
   "version": "3.11.5"
  }
 },
 "nbformat": 4,
 "nbformat_minor": 2
}
